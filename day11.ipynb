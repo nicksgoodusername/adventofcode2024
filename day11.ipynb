{
 "cells": [
  {
   "cell_type": "code",
   "execution_count": 1,
   "metadata": {},
   "outputs": [],
   "source": [
    "from collections import Counter\n",
    "test_input = \"125 17\"\n",
    "day11_input = \"64599 31 674832 2659361 1 0 8867 321\""
   ]
  },
  {
   "cell_type": "code",
   "execution_count": null,
   "metadata": {},
   "outputs": [],
   "source": [
    "def part1(input_str: str, num_blinks: int):\n",
    "    stone_list = input_str.split()\n",
    "    blinks_remaining = num_blinks\n",
    "    while blinks_remaining:\n",
    "        new_stone_list = []\n",
    "        blinks_remaining -= 1\n",
    "        for stone in stone_list:\n",
    "            if stone == '0':\n",
    "                new_stone_list.append('1')\n",
    "            elif len(stone) % 2 == 0:\n",
    "                i = int(len(stone)/2)\n",
    "                new_stone_list.append(stone[0:i])\n",
    "                new_stone_list.append(str(int(stone[i:2*i])))\n",
    "            else:\n",
    "                new_stone_list.append(str(int(stone) * 2024))\n",
    "        stone_list = new_stone_list\n",
    "    return len(stone_list)\n",
    "\n",
    "\n",
    "def day11(input_str: str, num_blinks: int):  # Same method but better (not holding big list), thanks Adoni5!\n",
    "    stones = Counter(s for s in map(int, input_str.strip().split()))\n",
    "    for count in range(num_blinks):\n",
    "        value_count = Counter()\n",
    "        for key, value in stones.items():\n",
    "            if key == 0:\n",
    "                value_count[1] += value\n",
    "            elif not len(str(key)) % 2:\n",
    "                st = str(key)\n",
    "                a, b = tuple(map(int, (st[: int(len(st) / 2)], st[int(len(st) / 2) :])))\n",
    "                value_count[a] += value\n",
    "                value_count[b] += value\n",
    "            else:\n",
    "                value_count[key * 2024] += value\n",
    "        stones = value_count\n",
    "    return sum(stones.values())"
   ]
  },
  {
   "cell_type": "code",
   "execution_count": 3,
   "metadata": {},
   "outputs": [
    {
     "name": "stdout",
     "output_type": "stream",
     "text": [
      "Part 1 # stones: 199986\n",
      "Part 2 # stones: 236804088748754\n"
     ]
    }
   ],
   "source": [
    "print(\"Part 1 # stones:\", day11(day11_input, 25))\n",
    "print(\"Part 2 # stones:\", day11(day11_input, 75))"
   ]
  }
 ],
 "metadata": {
  "kernelspec": {
   "display_name": "py38",
   "language": "python",
   "name": "python3"
  },
  "language_info": {
   "codemirror_mode": {
    "name": "ipython",
    "version": 3
   },
   "file_extension": ".py",
   "mimetype": "text/x-python",
   "name": "python",
   "nbconvert_exporter": "python",
   "pygments_lexer": "ipython3",
   "version": "3.8.18"
  }
 },
 "nbformat": 4,
 "nbformat_minor": 2
}
