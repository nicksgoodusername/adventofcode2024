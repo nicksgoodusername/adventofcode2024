{
 "cells": [
  {
   "cell_type": "code",
   "execution_count": null,
   "metadata": {},
   "outputs": [],
   "source": [
    "from itertools import repeat, chain, zip_longest"
   ]
  },
  {
   "cell_type": "code",
   "execution_count": 190,
   "metadata": {},
   "outputs": [],
   "source": [
    "with open(\"day7.txt\", \"r\") as f:\n",
    "    day7_input = f.read()\n",
    "\n",
    "longest_element = 0\n",
    "for i in day7_input.split(\"\\n\"):\n",
    "    len_elements = len(list(i.split(sep=\":\")[1].split()))\n",
    "    if len_elements > longest_element:\n",
    "        longest_element = len_elements\n",
    "\n",
    "def ternary(n: int):\n",
    "    if n == 0:\n",
    "        return '0'\n",
    "    nums = []\n",
    "    while n:\n",
    "        n, r = divmod(n, 3)\n",
    "        nums.append(str(r))\n",
    "    return ''.join(reversed(nums))\n",
    "\n",
    "BINARY_SET = []  # Make list of perms of operators\n",
    "for i in range(2**longest_element):\n",
    "    temp = list(repeat(\"+\", longest_element))\n",
    "    op_map = str(bin(i)[2:][::-1])\n",
    "    for j in range(len(op_map)):\n",
    "        if op_map[j] == '0':\n",
    "            continue\n",
    "        temp[j] = '*'\n",
    "    BINARY_SET.append(temp)\n",
    "\n",
    "TERNARY_SET = []\n",
    "for i in range(3**longest_element):\n",
    "    temp = list(repeat(\"+\", longest_element))\n",
    "    op_map = str(ternary(i)[::-1])\n",
    "    for j in range(len(op_map)):\n",
    "        if op_map[j] == '0':\n",
    "            continue\n",
    "        elif op_map[j] == '1':\n",
    "            temp[j] = \"*\"\n",
    "        else:\n",
    "            temp[j] = \"|\"\n",
    "    TERNARY_SET.append(temp)"
   ]
  },
  {
   "cell_type": "code",
   "execution_count": 212,
   "metadata": {},
   "outputs": [],
   "source": [
    "def day7_func(input: str, base: int):\n",
    "    if base == 3:\n",
    "        op_set = TERNARY_SET\n",
    "    else:\n",
    "        op_set = BINARY_SET\n",
    "    target = input.split(sep=':')[0]\n",
    "    elements = list(input.split(sep=':')[1].split())\n",
    "    num_operators = len(elements) - 1\n",
    "    operation_perms = [x[:num_operators] for x in op_set[:base**num_operators]]  # Get the relevant operator sets\n",
    "    for operator_set in operation_perms:\n",
    "        equation_list = [x for x in chain.from_iterable(zip_longest(elements, operator_set)) if x]  # [value, operator, value, operator...]\n",
    "        output = equation_list.pop(0)\n",
    "        while equation_list:\n",
    "            operator = equation_list.pop(0)\n",
    "            value = equation_list.pop(0)\n",
    "            if operator == \"|\":\n",
    "                output = output + value\n",
    "            else:\n",
    "                output = str(eval(output + operator + value))\n",
    "        if output == target:\n",
    "            return int(target)\n",
    "    return 0"
   ]
  },
  {
   "cell_type": "code",
   "execution_count": 213,
   "metadata": {},
   "outputs": [
    {
     "name": "stdout",
     "output_type": "stream",
     "text": [
      "Part 1:  20281182715321\n",
      "Part 2:  159490400628354\n"
     ]
    }
   ],
   "source": [
    "bin_totals = []\n",
    "ter_totals = []\n",
    "for line in day7_input.split(\"\\n\"):\n",
    "    bin_totals.append(day7_func(line, 2))\n",
    "    ter_totals.append(day7_func(line, 3))\n",
    "print(\"Part 1: \", sum(bin_totals))\n",
    "print(\"Part 2: \", sum(ter_totals))"
   ]
  }
 ],
 "metadata": {
  "kernelspec": {
   "display_name": "advenvofcode_2024",
   "language": "python",
   "name": "python3"
  },
  "language_info": {
   "codemirror_mode": {
    "name": "ipython",
    "version": 3
   },
   "file_extension": ".py",
   "mimetype": "text/x-python",
   "name": "python",
   "nbconvert_exporter": "python",
   "pygments_lexer": "ipython3",
   "version": "3.7.17"
  }
 },
 "nbformat": 4,
 "nbformat_minor": 2
}
