{
 "cells": [
  {
   "cell_type": "code",
   "execution_count": 2,
   "metadata": {},
   "outputs": [],
   "source": [
    "import numpy as np"
   ]
  },
  {
   "cell_type": "code",
   "execution_count": 3,
   "metadata": {},
   "outputs": [],
   "source": [
    "test_input = \"\"\"7 6 4 2 1\n",
    "1 2 7 8 9\n",
    "9 7 6 2 1\n",
    "1 3 2 4 5\n",
    "8 6 4 4 1\n",
    "1 3 6 7 9\"\"\".split(\"\\n\")"
   ]
  },
  {
   "cell_type": "code",
   "execution_count": null,
   "metadata": {},
   "outputs": [],
   "source": [
    "def create_ndarray_report(report: str):\n",
    "    arr_report = np.asarray(report.split()).astype(int)\n",
    "    return arr_report\n",
    "\n",
    "\n",
    "def is_report_safe(report : np.ndarray):\n",
    "    shifted_report = np.append(report[1::], 0)\n",
    "    \n",
    "    value_changes = np.subtract(shifted_report, report)[:-1:]\n",
    "\n",
    "    sign_count = 0\n",
    "    for i in value_changes:\n",
    "        if i == 0 or abs(i) > 3:\n",
    "            return False\n",
    "            \n",
    "        sign_count += i/abs(i)\n",
    "\n",
    "    if abs(sign_count) != len(value_changes):\n",
    "        return False\n",
    "\n",
    "    return True\n",
    "\n",
    "\n",
    "def is_damped_report_safe(report : str):\n",
    "\n",
    "    for i in range(len(report)):\n",
    "        damped_report = np.delete(report, i)\n",
    "\n",
    "        if is_report_safe(damped_report):\n",
    "           return True\n",
    "\n",
    "    return False"
   ]
  },
  {
   "cell_type": "code",
   "execution_count": 13,
   "metadata": {},
   "outputs": [
    {
     "name": "stdout",
     "output_type": "stream",
     "text": [
      "True\n",
      "False\n",
      "False\n",
      "True\n",
      "True\n",
      "True\n"
     ]
    }
   ],
   "source": [
    "for i in test_input:\n",
    "    i = create_ndarray_report(i)\n",
    "    if is_report_safe(i):\n",
    "        print(is_report_safe(i))\n",
    "    else:\n",
    "        print(is_damped_report_safe(i))"
   ]
  },
  {
   "cell_type": "code",
   "execution_count": 15,
   "metadata": {},
   "outputs": [
    {
     "data": {
      "text/plain": [
       "332"
      ]
     },
     "execution_count": 15,
     "metadata": {},
     "output_type": "execute_result"
    }
   ],
   "source": [
    "input_fpath = \"day2.txt\"\n",
    "safe_report_count = 0\n",
    "with open(input_fpath, \"r\") as reports:\n",
    "    for report in reports:\n",
    "        report = create_ndarray_report(report)\n",
    "        if is_report_safe(report):\n",
    "            safe_report_count += 1\n",
    "\n",
    "safe_report_count"
   ]
  },
  {
   "cell_type": "code",
   "execution_count": 16,
   "metadata": {},
   "outputs": [
    {
     "data": {
      "text/plain": [
       "398"
      ]
     },
     "execution_count": 16,
     "metadata": {},
     "output_type": "execute_result"
    }
   ],
   "source": [
    "input_fpath = \"day2.txt\"\n",
    "safe_report_count = 0\n",
    "with open(input_fpath, \"r\") as reports:\n",
    "    for report in reports:\n",
    "        report = create_ndarray_report(report)\n",
    "        if is_report_safe(report):\n",
    "            safe_report_count += 1\n",
    "        elif is_damped_report_safe(report):\n",
    "            safe_report_count += 1\n",
    "\n",
    "safe_report_count"
   ]
  }
 ],
 "metadata": {
  "kernelspec": {
   "display_name": "py3.7_1",
   "language": "python",
   "name": "python3"
  },
  "language_info": {
   "codemirror_mode": {
    "name": "ipython",
    "version": 3
   },
   "file_extension": ".py",
   "mimetype": "text/x-python",
   "name": "python",
   "nbconvert_exporter": "python",
   "pygments_lexer": "ipython3",
   "version": "3.7.16"
  }
 },
 "nbformat": 4,
 "nbformat_minor": 2
}
