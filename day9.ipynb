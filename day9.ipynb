{
 "cells": [
  {
   "cell_type": "code",
   "execution_count": 2,
   "metadata": {},
   "outputs": [],
   "source": [
    "from itertools import repeat\n",
    "test_input = \"2333133121414131402\"\n",
    "with open(\"day9.txt\", \"r\") as f:\n",
    "    day9_input = f.read()\n"
   ]
  },
  {
   "cell_type": "code",
   "execution_count": 57,
   "metadata": {},
   "outputs": [],
   "source": [
    "def dense_to_wide(dense_str: str) -> list:\n",
    "    ID_number = 0\n",
    "    wide_lst = []\n",
    "    for i, char in enumerate(dense_str):\n",
    "        if not i%2:  # Character represents length of file\n",
    "            wide_lst += repeat(ID_number, int(char))\n",
    "            ID_number += 1\n",
    "            continue\n",
    "        else:\n",
    "            wide_lst += repeat(\".\", int(char))\n",
    "            continue\n",
    "    return wide_lst\n",
    "\n",
    "\n",
    "def part1(dense_str: str):\n",
    "\n",
    "    wide_list = dense_to_wide(dense_str)\n",
    "\n",
    "    mod_wide_list = wide_list[:]\n",
    "\n",
    "    fspace_index = 0\n",
    "    file_rev_index = 0\n",
    "\n",
    "    while True:\n",
    "        for i, char in enumerate(mod_wide_list):\n",
    "            if char == \".\":\n",
    "                fspace_index = i\n",
    "                break\n",
    "            continue\n",
    "        for rev_i, char in enumerate(mod_wide_list[::-1]):\n",
    "            if char != \".\":\n",
    "                file_rev_index = rev_i + 1\n",
    "                break\n",
    "            continue\n",
    "        if fspace_index > (len(wide_list) - file_rev_index):\n",
    "            break\n",
    "        mod_wide_list[fspace_index], mod_wide_list[-file_rev_index] = mod_wide_list[-file_rev_index], mod_wide_list[fspace_index]\n",
    "    checksum = 0\n",
    "    for i, x in enumerate(mod_wide_list):\n",
    "        if not x == \".\":\n",
    "            checksum += i * int(x)\n",
    "    return checksum\n",
    "\n",
    "\n",
    "def part2(dense_str: str):\n",
    "\n",
    "    wide_list = dense_to_wide(dense_str)\n",
    "        \n",
    "    file_ids = list(set([x for x in wide_list if isinstance(x, int)]))\n",
    "\n",
    "    for file_id in file_ids[::-1]:\n",
    "        file_len = sum(1 for x in wide_list if x == file_id)\n",
    "        file_start = None\n",
    "        for i in range(len(wide_list)):\n",
    "            if wide_list[i] == file_id:\n",
    "                file_start = i\n",
    "                break\n",
    "\n",
    "        for i in range(len(wide_list)):\n",
    "            if wide_list[i] != \".\":\n",
    "                continue\n",
    "            space_start = i\n",
    "            space_len = 0\n",
    "            if space_start > file_start:\n",
    "                break\n",
    "            while i < len(wide_list) and wide_list[i] == \".\":\n",
    "                space_len += 1\n",
    "                i += 1\n",
    "            if space_len >= file_len:\n",
    "                wide_list[space_start : space_start + file_len] = [file_id] * file_len\n",
    "                wide_list[file_start : file_start + file_len] = ['.'] * file_len\n",
    "                break\n",
    "\n",
    "    checksum = 0\n",
    "    for i, obj in enumerate(wide_list):\n",
    "        if obj != \".\":\n",
    "            checksum += (i * obj)\n",
    "    \n",
    "    return checksum\n"
   ]
  },
  {
   "cell_type": "code",
   "execution_count": 58,
   "metadata": {},
   "outputs": [
    {
     "name": "stdout",
     "output_type": "stream",
     "text": [
      "Part 1 checksum: 6323641412437\n",
      "Part 2 checksum: 6351801932670\n"
     ]
    }
   ],
   "source": [
    "print(\"Part 1 checksum:\", part1(day9_input))\n",
    "print(\"Part 2 checksum:\", part2(day9_input))"
   ]
  }
 ],
 "metadata": {
  "kernelspec": {
   "display_name": "py38",
   "language": "python",
   "name": "python3"
  },
  "language_info": {
   "codemirror_mode": {
    "name": "ipython",
    "version": 3
   },
   "file_extension": ".py",
   "mimetype": "text/x-python",
   "name": "python",
   "nbconvert_exporter": "python",
   "pygments_lexer": "ipython3",
   "version": "3.8.18"
  }
 },
 "nbformat": 4,
 "nbformat_minor": 2
}
