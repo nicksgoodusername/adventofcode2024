{
 "cells": [
  {
   "cell_type": "code",
   "execution_count": 1,
   "metadata": {},
   "outputs": [],
   "source": [
    "import re\n",
    "from math import floor\n",
    "input_fpath = \"day5.txt\"\n",
    "test_input = \"\"\"47|53\n",
    "97|13\n",
    "97|61\n",
    "97|47\n",
    "75|29\n",
    "61|13\n",
    "75|53\n",
    "29|13\n",
    "97|29\n",
    "53|29\n",
    "61|53\n",
    "97|53\n",
    "61|29\n",
    "47|13\n",
    "75|47\n",
    "97|75\n",
    "47|61\n",
    "75|61\n",
    "47|29\n",
    "75|13\n",
    "53|13\n",
    "\n",
    "75,47,61,53,29\n",
    "97,61,53,29,13\n",
    "75,29,13\n",
    "75,97,47,61,53\n",
    "61,13,29\n",
    "97,13,75,29,47\"\"\""
   ]
  },
  {
   "cell_type": "code",
   "execution_count": 2,
   "metadata": {},
   "outputs": [],
   "source": [
    "def rationalise_input(input: str) -> list:\n",
    "    order_rules = []\n",
    "    updates = []\n",
    "    for line in input.split():\n",
    "        if \"|\" in line:\n",
    "            order_rules.append(list(map(int, re.findall(r\"\\d+\", line))))\n",
    "        elif \",\" in line:\n",
    "            updates.append(list(map(int, line.split(\",\"))))\n",
    "    return order_rules, updates\n",
    "\n",
    "\n",
    "def is_rule_broken(update: list, rules: list) -> bool:\n",
    "    rule_broken = False\n",
    "    i = -1\n",
    "    while True:\n",
    "        i += 1\n",
    "        if i == len(rules):\n",
    "            break\n",
    "        rule = rules[i]\n",
    "        if not all ([x in update for x in rule]):\n",
    "            continue\n",
    "        rule_low, rule_hi = rule\n",
    "        if update.index(rule_low) > update.index(rule_hi):\n",
    "            rule_broken = True\n",
    "            break\n",
    "    return rule_broken\n",
    "\n",
    "\n",
    "def test_updates(updates: list, rules: list) -> list:\n",
    "    middle_nums = []\n",
    "    for update in updates:\n",
    "        if is_rule_broken(update, rules):\n",
    "            continue\n",
    "        middle_nums.append(update[floor(len(update)/2)])\n",
    "    return middle_nums\n",
    "\n",
    "\n",
    "def correct_updates(updates: list, rules: list) -> list:\n",
    "    middle_nums = []\n",
    "    for update in updates:\n",
    "        ordered_update = update[:]\n",
    "        if not is_rule_broken(ordered_update, rules):\n",
    "            continue\n",
    "        relevant_rules = []\n",
    "        for rule in rules:\n",
    "            if not all ([x in ordered_update for x in rule]):\n",
    "                continue\n",
    "            relevant_rules.append(rule)\n",
    "        while True:\n",
    "            change_count = 0\n",
    "            for rule in relevant_rules:\n",
    "                rule_low, rule_hi = rule\n",
    "                i_l, i_h = ordered_update.index(rule_low), ordered_update.index(rule_hi)\n",
    "                if i_l > i_h:\n",
    "                    ordered_update[i_l], ordered_update[i_h] = ordered_update[i_h], ordered_update[i_l]\n",
    "                    change_count += 1\n",
    "            if change_count == 0:\n",
    "                break\n",
    "        middle_nums.append(ordered_update[floor(len(update)/2)])\n",
    "    return middle_nums\n",
    "\n"
   ]
  },
  {
   "cell_type": "code",
   "execution_count": 3,
   "metadata": {},
   "outputs": [
    {
     "name": "stdout",
     "output_type": "stream",
     "text": [
      "Part 1: sum of middle numbers = 7365\n",
      "Part 2: sum of middle numbers = 5770\n"
     ]
    }
   ],
   "source": [
    "with open(input_fpath, \"r\") as f:\n",
    "    input_str = f.read()\n",
    "    rules, updates = rationalise_input(input_str)\n",
    "    print(f\"Part 1: sum of middle numbers = {sum(test_updates(updates, rules))}\")\n",
    "    print(f\"Part 2: sum of middle numbers = {sum(correct_updates(updates, rules))}\")\n"
   ]
  },
  {
   "cell_type": "code",
   "execution_count": null,
   "metadata": {},
   "outputs": [],
   "source": []
  }
 ],
 "metadata": {
  "kernelspec": {
   "display_name": "py38",
   "language": "python",
   "name": "python3"
  },
  "language_info": {
   "codemirror_mode": {
    "name": "ipython",
    "version": 3
   },
   "file_extension": ".py",
   "mimetype": "text/x-python",
   "name": "python",
   "nbconvert_exporter": "python",
   "pygments_lexer": "ipython3",
   "version": "3.8.18"
  }
 },
 "nbformat": 4,
 "nbformat_minor": 2
}
