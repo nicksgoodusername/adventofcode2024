{
 "cells": [
  {
   "cell_type": "code",
   "execution_count": 58,
   "metadata": {},
   "outputs": [],
   "source": [
    "import re\n",
    "from itertools import combinations\n",
    "import numpy as np\n",
    "\n",
    "test_input = \"\"\"............\n",
    "........0...\n",
    ".....0......\n",
    ".......0....\n",
    "....0.......\n",
    "......A.....\n",
    "............\n",
    "............\n",
    "........A...\n",
    ".........A..\n",
    "............\n",
    "............\"\"\"\n",
    "\n",
    "with open(\"day8.txt\", \"r\") as f:\n",
    "    day8_input = f.read()\n",
    "\n",
    "freq_patt = r\"\\w\""
   ]
  },
  {
   "cell_type": "code",
   "execution_count": null,
   "metadata": {},
   "outputs": [],
   "source": [
    "def parse_input(antenna_map: str) -> dict:\n",
    "    character_location_dict = {}\n",
    "    for row_index, row_list in enumerate(antenna_map.split(\"\\n\")):\n",
    "        for col_index, character in enumerate(row_list):\n",
    "            character_location_dict[(row_index, col_index)] = character\n",
    "    return character_location_dict\n",
    "\n",
    "\n",
    "def part1(antenna_map: str):\n",
    "    input_dict = parse_input(antenna_map)\n",
    "    frequencies = set(re.findall(freq_patt, antenna_map))\n",
    "    allfreq_anode_locs = []\n",
    "    for freq in frequencies:\n",
    "        antenna_locations = [x for x in input_dict if input_dict[x] == freq]\n",
    "        for pair in combinations(antenna_locations, 2):\n",
    "            pos1, pos2 = [np.array(x) for x in pair]\n",
    "            conn_vect = -pos1 + pos2\n",
    "            possible_anode_locs = [pos1 - conn_vect, pos2 + conn_vect, pos1 + conn_vect*(2/3), pos1 + conn_vect*(1/3)]\n",
    "            anode_locs = []\n",
    "            for loc in possible_anode_locs:\n",
    "                if not all([a.is_integer() for a in loc]):\n",
    "                    continue\n",
    "                loc = tuple(map(int, loc))\n",
    "                if not input_dict.get(loc):\n",
    "                    continue\n",
    "                anode_locs.append(loc)\n",
    "            allfreq_anode_locs += anode_locs\n",
    "    return len(set(allfreq_anode_locs))\n",
    "\n",
    "def part2(antenna_map: str):\n",
    "    input_dict = parse_input(antenna_map)\n",
    "    frequencies = set(re.findall(freq_patt, antenna_map))\n",
    "    allfreq_anode_locs = []\n",
    "    for freq in frequencies:\n",
    "        antenna_locations = [x for x in input_dict if input_dict[x] == freq]\n",
    "        for pair in combinations(antenna_locations, 2):\n",
    "            pos1, pos2 = [np.array(x) for x in pair]\n",
    "            conn_vect = -pos1 + pos2\n",
    "            i = 0\n",
    "            anode_locs = []\n",
    "            while True:\n",
    "                either_in = False\n",
    "                n_1, n_2 = tuple((pos1 + conn_vect*i).tolist()), tuple((pos1 - conn_vect*i).tolist())\n",
    "                for a in n_1, n_2:\n",
    "                    if input_dict.get(a):\n",
    "                        anode_locs.append(a)\n",
    "                        either_in = True\n",
    "                if not either_in:\n",
    "                    break\n",
    "                i += 1\n",
    "            allfreq_anode_locs += anode_locs\n",
    "    return len(set(allfreq_anode_locs))"
   ]
  },
  {
   "cell_type": "code",
   "execution_count": 72,
   "metadata": {},
   "outputs": [
    {
     "name": "stdout",
     "output_type": "stream",
     "text": [
      "Part 1 antinode locations:  295\n",
      "Part 2 harmonic antinode locations:  1034\n"
     ]
    }
   ],
   "source": [
    "print(\"Part 1 antinode locations: \", part1(day8_input))\n",
    "print(\"Part 2 harmonic antinode locations: \", part2(day8_input))"
   ]
  }
 ],
 "metadata": {
  "kernelspec": {
   "display_name": "py38",
   "language": "python",
   "name": "python3"
  },
  "language_info": {
   "codemirror_mode": {
    "name": "ipython",
    "version": 3
   },
   "file_extension": ".py",
   "mimetype": "text/x-python",
   "name": "python",
   "nbconvert_exporter": "python",
   "pygments_lexer": "ipython3",
   "version": "3.8.18"
  }
 },
 "nbformat": 4,
 "nbformat_minor": 2
}
