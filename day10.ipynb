{
 "cells": [
  {
   "cell_type": "code",
   "execution_count": 1,
   "metadata": {},
   "outputs": [],
   "source": [
    "test_input = \"\"\"89010123\n",
    "78121874\n",
    "87430965\n",
    "96549874\n",
    "45678903\n",
    "32019012\n",
    "01329801\n",
    "10456732\"\"\"\n",
    "\n",
    "with open(\"day10.txt\", \"r\") as f:\n",
    "    day10_input = f.read()"
   ]
  },
  {
   "cell_type": "code",
   "execution_count": 2,
   "metadata": {},
   "outputs": [],
   "source": [
    "def strinput_to_dict(input_str: str):\n",
    "    character_location_dict = {}\n",
    "    for row_index, row_list in enumerate(input_str.split(\"\\n\")):\n",
    "        for col_index, character in enumerate(row_list):\n",
    "            character_location_dict[(row_index, col_index)] = character\n",
    "    return character_location_dict\n",
    "\n",
    "\n",
    "def get_trailheads(input_str: str):\n",
    "    trailheads = []\n",
    "    input_lst = input_str.split(\"\\n\")\n",
    "    for row in range(len(input_lst)):\n",
    "        for col, char in enumerate(input_lst[row]):\n",
    "            if char == \"0\":\n",
    "                trailheads.append((row, col))\n",
    "    return trailheads\n",
    "\n",
    "\n",
    "def trail_dfs(input_dict: dict, trailhead: tuple, part: int):\n",
    "    acwise_cardinals = [(-1, 0), (0, 1), (1, 0), (0, -1)][::-1]\n",
    "    stack = []\n",
    "    visited_nodes = []\n",
    "    stack.append(trailhead)\n",
    "    while stack:\n",
    "        node = stack.pop()\n",
    "        visited_nodes.append(node)\n",
    "        node_val = int(input_dict.get(node))\n",
    "        for step in acwise_cardinals:\n",
    "            adjnode = (node[0] + step[0], node[1] + step[1])\n",
    "            adjnode_char = input_dict.get(adjnode)\n",
    "            if not adjnode_char:\n",
    "                continue\n",
    "            if int(adjnode_char) == node_val + 1:\n",
    "                stack.append(adjnode)\n",
    "    if part == 1:\n",
    "        to_check = set(visited_nodes)\n",
    "    else:\n",
    "        to_check = visited_nodes\n",
    "    count = 0\n",
    "    for vnode in to_check:\n",
    "        if input_dict.get(vnode) == \"9\":\n",
    "            count += 1\n",
    "    return count"
   ]
  },
  {
   "cell_type": "code",
   "execution_count": 3,
   "metadata": {},
   "outputs": [
    {
     "name": "stdout",
     "output_type": "stream",
     "text": [
      "Part 1 trail count: 694\n",
      "Part 2 trail score sums: 1497\n"
     ]
    }
   ],
   "source": [
    "print(\"Part 1 trail count:\", sum([trail_dfs(strinput_to_dict(day10_input), x, 1) for x in get_trailheads(day10_input)]))\n",
    "print(\"Part 2 trail score sums:\", sum([trail_dfs(strinput_to_dict(day10_input), x, 2) for x in get_trailheads(day10_input)]))"
   ]
  },
  {
   "cell_type": "code",
   "execution_count": null,
   "metadata": {},
   "outputs": [],
   "source": []
  }
 ],
 "metadata": {
  "kernelspec": {
   "display_name": "py38",
   "language": "python",
   "name": "python3"
  },
  "language_info": {
   "codemirror_mode": {
    "name": "ipython",
    "version": 3
   },
   "file_extension": ".py",
   "mimetype": "text/x-python",
   "name": "python",
   "nbconvert_exporter": "python",
   "pygments_lexer": "ipython3",
   "version": "3.8.18"
  }
 },
 "nbformat": 4,
 "nbformat_minor": 2
}
