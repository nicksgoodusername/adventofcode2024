{
 "cells": [
  {
   "cell_type": "code",
   "execution_count": 37,
   "metadata": {},
   "outputs": [],
   "source": [
    "import numpy as np\n",
    "from tqdm import tqdm\n",
    "from time import time\n",
    "cwise_vector = np.array(([0, 1], [-1, 0]))\n",
    "test_input = \"\"\"....#.....\n",
    ".........#\n",
    "..........\n",
    "..#.......\n",
    ".......#..\n",
    "..........\n",
    ".#..^.....\n",
    "........#.\n",
    "#.........\n",
    "......#...\"\"\"\n",
    "day_6_fpath = \"day6.txt\""
   ]
  },
  {
   "cell_type": "code",
   "execution_count": 40,
   "metadata": {},
   "outputs": [],
   "source": [
    "def parse_input(input: str) -> dict:\n",
    "    character_location_dict = {}\n",
    "    for row_index, row_list in enumerate(input.split()):\n",
    "        for col_index, character in enumerate(row_list):\n",
    "            character_location_dict[(row_index, col_index)] = character\n",
    "    return character_location_dict\n",
    "\n",
    "def guard_path_plotter(coordinate: list, input: dict, vector: list = (-1, 0)) -> list:\n",
    "    row, col = coordinate\n",
    "    onward_vector = vector\n",
    "    onward_coord = (row + onward_vector[0], col + onward_vector[1])\n",
    "    onward_char = input.get(onward_coord)\n",
    "    while True:\n",
    "        if onward_char == \"#\":\n",
    "            onward_vector = (onward_vector[1], -onward_vector[0])\n",
    "            onward_coord = (row + onward_vector[0], col + onward_vector[1])\n",
    "            onward_char = input.get(onward_coord)\n",
    "        if onward_char != \"#\":\n",
    "            break\n",
    "    return onward_coord, onward_vector"
   ]
  },
  {
   "cell_type": "code",
   "execution_count": null,
   "metadata": {},
   "outputs": [
    {
     "name": "stdout",
     "output_type": "stream",
     "text": [
      "Part 1: 5534 unique postitions\n"
     ]
    },
    {
     "name": "stderr",
     "output_type": "stream",
     "text": [
      "  1%|          | 50/5534 [00:16<30:54,  2.96it/s] \n"
     ]
    },
    {
     "ename": "KeyboardInterrupt",
     "evalue": "",
     "output_type": "error",
     "traceback": [
      "\u001b[1;31m---------------------------------------------------------------------------\u001b[0m",
      "\u001b[1;31mKeyboardInterrupt\u001b[0m                         Traceback (most recent call last)",
      "Cell \u001b[1;32mIn[42], line 33\u001b[0m\n\u001b[0;32m     31\u001b[0m         loop_created \u001b[38;5;241m=\u001b[39m \u001b[38;5;28;01mTrue\u001b[39;00m\n\u001b[0;32m     32\u001b[0m         \u001b[38;5;28;01mbreak\u001b[39;00m\n\u001b[1;32m---> 33\u001b[0m     \u001b[43mpos_dir_list\u001b[49m\u001b[38;5;241;43m.\u001b[39;49m\u001b[43mappend\u001b[49m((pos, direction))\n\u001b[0;32m     34\u001b[0m \u001b[38;5;28;01mif\u001b[39;00m loop_created:\n\u001b[0;32m     35\u001b[0m     looping_locations\u001b[38;5;241m.\u001b[39mappend(v_c)\n",
      "\u001b[1;31mKeyboardInterrupt\u001b[0m: "
     ]
    }
   ],
   "source": [
    "with open(day_6_fpath, \"r\") as f:\n",
    "    day_6_input = f.read()\n",
    "day_6_input = parse_input(day_6_input)\n",
    "pos = [i for i in day_6_input if day_6_input[i] == \"^\"][0]\n",
    "direction = [-1, 0]\n",
    "visited_coords = []\n",
    "while True:\n",
    "    if not day_6_input.get(pos):\n",
    "        break\n",
    "    visited_coords.append(pos)\n",
    "    pos, direction = guard_path_plotter(pos, day_6_input, direction)\n",
    "print(f\"Part 1: {len(set(visited_coords))} unique postitions\")\n",
    "\n",
    "looping_locations = []\n",
    "for v_c in tqdm(set(visited_coords)):\n",
    "    pos_dir_list = []\n",
    "    trial_input = day_6_input.copy()\n",
    "    loop_created = False\n",
    "    if trial_input[v_c] == \"^\":\n",
    "        continue\n",
    "    trial_input[v_c] = \"#\"\n",
    "    pos = [i for i in day_6_input if day_6_input[i] == \"^\"][0]\n",
    "    direction = [-1, 0]\n",
    "    while True:\n",
    "        if not trial_input.get(pos):\n",
    "            break\n",
    "        pos, direction = guard_path_plotter(pos, trial_input, direction)\n",
    "        if (pos, direction) in pos_dir_list:\n",
    "            loop_created = True\n",
    "            break\n",
    "        pos_dir_list.append((pos, direction))\n",
    "    if loop_created:\n",
    "        looping_locations.append(v_c)\n",
    "print(f\"Part 2: {len(set(looping_locations))} places to put obstacles\")\n",
    "\n"
   ]
  },
  {
   "cell_type": "code",
   "execution_count": null,
   "metadata": {},
   "outputs": [],
   "source": [
    "test_dict = parse_input(test_input)\n",
    "start_coord = [i for i in test_dict if test_dict[i] == \"^\"][0]\n",
    "pos = start_coord\n",
    "direction = [-1, 0]\n",
    "visited_coords = []\n",
    "while True:\n",
    "    if not test_dict.get(pos):\n",
    "        break\n",
    "    visited_coords.append(pos)\n",
    "    pos, direction = guard_path_plotter(pos, test_dict, direction)\n",
    "\n",
    "len(set(visited_coords))"
   ]
  },
  {
   "cell_type": "code",
   "execution_count": 23,
   "metadata": {},
   "outputs": [
    {
     "data": {
      "text/plain": [
       "[1, 3, 4]"
      ]
     },
     "execution_count": 23,
     "metadata": {},
     "output_type": "execute_result"
    }
   ],
   "source": [
    "list(set([1, 1, 3, 4]))"
   ]
  },
  {
   "cell_type": "code",
   "execution_count": null,
   "metadata": {},
   "outputs": [],
   "source": []
  }
 ],
 "metadata": {
  "kernelspec": {
   "display_name": "py38",
   "language": "python",
   "name": "python3"
  },
  "language_info": {
   "codemirror_mode": {
    "name": "ipython",
    "version": 3
   },
   "file_extension": ".py",
   "mimetype": "text/x-python",
   "name": "python",
   "nbconvert_exporter": "python",
   "pygments_lexer": "ipython3",
   "version": "3.8.18"
  }
 },
 "nbformat": 4,
 "nbformat_minor": 2
}
