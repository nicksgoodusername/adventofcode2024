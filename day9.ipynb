{
 "cells": [
  {
   "cell_type": "code",
   "execution_count": 50,
   "metadata": {},
   "outputs": [],
   "source": [
    "from itertools import repeat\n",
    "test_input = \"2333133121414131402\"\n",
    "with open(\"day9.txt\", \"r\") as f:\n",
    "    day9_input = f.read()\n"
   ]
  },
  {
   "cell_type": "code",
   "execution_count": 97,
   "metadata": {},
   "outputs": [],
   "source": [
    "def dense_to_wide(dense_str: str) -> list:\n",
    "    ID_number = 0\n",
    "    wide_lst = []\n",
    "    for i, char in enumerate(dense_str):\n",
    "        if not i%2:  # Character represents length of file\n",
    "            wide_lst += repeat(ID_number, int(char))\n",
    "            ID_number += 1\n",
    "            continue\n",
    "        else:\n",
    "            wide_lst += repeat(\".\", int(char))\n",
    "            continue\n",
    "    return wide_lst\n",
    "\n",
    "\n",
    "def part1(wide_list: list):\n",
    "    mod_wide_list = wide_list[:]\n",
    "    while True:\n",
    "        for i, char in enumerate(mod_wide_list):\n",
    "            if char == \".\":\n",
    "                fspace_index = i\n",
    "                break\n",
    "            continue\n",
    "        for rev_i, char in enumerate(mod_wide_list[::-1]):\n",
    "            if char != \".\":\n",
    "                file_rev_index = rev_i + 1\n",
    "                break\n",
    "            continue\n",
    "        if fspace_index > (len(wide_list) - file_rev_index):\n",
    "            break\n",
    "        mod_wide_list[fspace_index], mod_wide_list[-file_rev_index] = mod_wide_list[-file_rev_index], mod_wide_list[fspace_index]\n",
    "    checksum = 0\n",
    "    for i, x in enumerate(mod_wide_list):\n",
    "        if not x == \".\":\n",
    "            checksum += i * int(x)\n",
    "    return checksum\n",
    "\n",
    "\n",
    "def part2(dense_str: str):\n",
    "    ID_number = 0\n",
    "    wide_lst = []\n",
    "    for i, char in enumerate(dense_str):\n",
    "        if not i%2:  # Character represents length of file\n",
    "            wide_lst.append(tuple(repeat(ID_number, int(char))))\n",
    "            ID_number += 1\n",
    "            continue\n",
    "        else:\n",
    "            wide_lst += repeat(\".\", int(char))\n",
    "            continue\n",
    "\n",
    "    mod_wide_list = wide_lst[:]\n",
    "\n",
    "    for i, obj in enumerate(mod_wide_list[::-1]):\n",
    "        if obj == '.':\n",
    "            continue\n",
    "        else:\n",
    "            file_index = len(mod_wide_list) - (i + 1)\n",
    "            file_len = len(obj)\n",
    "        j = 0\n",
    "        count = 0\n",
    "        while True:\n",
    "            if j == len(mod_wide_list):\n",
    "                break\n",
    "            entry = mod_wide_list[j]\n",
    "            if entry != '.':\n",
    "                j += 1\n",
    "                count = 0\n",
    "                continue\n",
    "            count += 1\n",
    "            j += 1\n",
    "            if count == file_len:\n",
    "                space_start, space_stop = j - file_len + 1, j + 1\n",
    "                mod_wide_list[space_start: space_stop] = [x for x in obj]\n",
    "                break\n",
    "            \n",
    "        print(mod_wide_list)"
   ]
  },
  {
   "cell_type": "code",
   "execution_count": 98,
   "metadata": {},
   "outputs": [
    {
     "ename": "KeyboardInterrupt",
     "evalue": "",
     "output_type": "error",
     "traceback": [
      "\u001b[1;31m---------------------------------------------------------------------------\u001b[0m",
      "\u001b[1;31mKeyboardInterrupt\u001b[0m                         Traceback (most recent call last)",
      "Cell \u001b[1;32mIn[98], line 1\u001b[0m\n\u001b[1;32m----> 1\u001b[0m \u001b[43mpart1\u001b[49m\u001b[43m(\u001b[49m\u001b[43mdense_to_wide\u001b[49m\u001b[43m(\u001b[49m\u001b[43mday9_input\u001b[49m\u001b[43m)\u001b[49m\u001b[43m)\u001b[49m\n",
      "Cell \u001b[1;32mIn[97], line 18\u001b[0m, in \u001b[0;36mpart1\u001b[1;34m(wide_list)\u001b[0m\n\u001b[0;32m     16\u001b[0m mod_wide_list \u001b[38;5;241m=\u001b[39m wide_list[:]\n\u001b[0;32m     17\u001b[0m \u001b[38;5;28;01mwhile\u001b[39;00m \u001b[38;5;28;01mTrue\u001b[39;00m:\n\u001b[1;32m---> 18\u001b[0m     \u001b[38;5;28;01mfor\u001b[39;00m i, char \u001b[38;5;129;01min\u001b[39;00m \u001b[38;5;28menumerate\u001b[39m(mod_wide_list):\n\u001b[0;32m     19\u001b[0m         \u001b[38;5;28;01mif\u001b[39;00m char \u001b[38;5;241m==\u001b[39m \u001b[38;5;124m\"\u001b[39m\u001b[38;5;124m.\u001b[39m\u001b[38;5;124m\"\u001b[39m:\n\u001b[0;32m     20\u001b[0m             fspace_index \u001b[38;5;241m=\u001b[39m i\n",
      "\u001b[1;31mKeyboardInterrupt\u001b[0m: "
     ]
    }
   ],
   "source": [
    "part1(dense_to_wide(day9_input))"
   ]
  },
  {
   "cell_type": "code",
   "execution_count": 99,
   "metadata": {},
   "outputs": [
    {
     "name": "stdout",
     "output_type": "stream",
     "text": [
      "[(0, 0), '.', 9, 9, (1, 1, 1), '.', '.', '.', (2,), '.', '.', '.', (3, 3, 3), '.', (4, 4), '.', (5, 5, 5, 5), '.', (6, 6, 6, 6), '.', (7, 7, 7), '.', (8, 8, 8, 8), (9, 9)]\n",
      "[(0, 0), '.', 9, 9, (1, 1, 1), '.', '.', '.', (2,), '.', '.', '.', (3, 3, 3), '.', (4, 4), '.', (5, 5, 5, 5), '.', (6, 6, 6, 6), '.', (7, 7, 7), '.', (8, 8, 8, 8), (9, 9)]\n",
      "[(0, 0), '.', 9, 9, (1, 1, 1), '.', 7, 7, 7, '.', '.', '.', (3, 3, 3), '.', (4, 4), '.', (5, 5, 5, 5), '.', (6, 6, 6, 6), '.', (7, 7, 7), '.', (8, 8, 8, 8), (9, 9)]\n",
      "[(0, 0), '.', 9, 9, (1, 1, 1), '.', 7, 7, 7, '.', '.', '.', (3, 3, 3), '.', (4, 4), '.', (5, 5, 5, 5), '.', (6, 6, 6, 6), '.', (7, 7, 7), '.', (8, 8, 8, 8), (9, 9)]\n",
      "[(0, 0), '.', 9, 9, (1, 1, 1), '.', 7, 7, 7, '.', '.', '.', (3, 3, 3), '.', (4, 4), '.', (5, 5, 5, 5), '.', (6, 6, 6, 6), '.', (7, 7, 7), '.', (8, 8, 8, 8), (9, 9)]\n",
      "[(0, 0), '.', 9, 9, (1, 1, 1), '.', 7, 7, 7, '.', 4, 4, (3, 3, 3), '.', (4, 4), '.', (5, 5, 5, 5), '.', (6, 6, 6, 6), '.', (7, 7, 7), '.', (8, 8, 8, 8), (9, 9)]\n",
      "[(0, 0), '.', 9, 9, (1, 1, 1), '.', 7, 7, 7, '.', 4, 4, (3, 3, 3), '.', (4, 4), '.', (5, 5, 5, 5), '.', (6, 6, 6, 6), '.', (7, 7, 7), '.', (8, 8, 8, 8), (9, 9)]\n",
      "[(0, 0), '.', 2, 9, (1, 1, 1), '.', 7, 7, 7, '.', 4, 4, (3, 3, 3), '.', (4, 4), '.', (5, 5, 5, 5), '.', (6, 6, 6, 6), '.', (7, 7, 7), '.', (8, 8, 8, 8), (9, 9)]\n",
      "[(0, 0), '.', 2, 9, (1, 1, 1), '.', 7, 7, 7, '.', 4, 4, (3, 3, 3), '.', (4, 4), '.', (5, 5, 5, 5), '.', (6, 6, 6, 6), '.', (7, 7, 7), '.', (8, 8, 8, 8), (9, 9)]\n",
      "[(0, 0), '.', 2, 9, (1, 1, 1), '.', 7, 7, 7, '.', 4, 4, (3, 3, 3), '.', (4, 4), '.', (5, 5, 5, 5), '.', (6, 6, 6, 6), '.', (7, 7, 7), '.', (8, 8, 8, 8), (9, 9)]\n"
     ]
    }
   ],
   "source": [
    "part2(test_input)"
   ]
  },
  {
   "cell_type": "code",
   "execution_count": 74,
   "metadata": {},
   "outputs": [
    {
     "data": {
      "text/plain": [
       "[2, 9, 11, 67, 23, 2]"
      ]
     },
     "execution_count": 74,
     "metadata": {},
     "output_type": "execute_result"
    }
   ],
   "source": [
    "a = [2,4,5,67,23,2]\n",
    "a[1:3] = [9, 11]\n",
    "a"
   ]
  },
  {
   "cell_type": "code",
   "execution_count": null,
   "metadata": {},
   "outputs": [],
   "source": []
  }
 ],
 "metadata": {
  "kernelspec": {
   "display_name": "py38",
   "language": "python",
   "name": "python3"
  },
  "language_info": {
   "codemirror_mode": {
    "name": "ipython",
    "version": 3
   },
   "file_extension": ".py",
   "mimetype": "text/x-python",
   "name": "python",
   "nbconvert_exporter": "python",
   "pygments_lexer": "ipython3",
   "version": "3.8.18"
  }
 },
 "nbformat": 4,
 "nbformat_minor": 2
}
