{
 "cells": [
  {
   "cell_type": "code",
   "execution_count": 1,
   "metadata": {},
   "outputs": [],
   "source": [
    "clockwise_modifiers = [(-1, -1), (-1, 0), (-1, 1), (0, 1), (1, 1), (1, 0), (1, -1), (0, -1)]\n",
    "x_modifiers = [(-1, -1), (-1, 1), (1, 1), (1, -1)]"
   ]
  },
  {
   "cell_type": "code",
   "execution_count": 2,
   "metadata": {},
   "outputs": [],
   "source": [
    "test_input = \"\"\"MMMSXXMASM\n",
    "MSAMXMSMSA\n",
    "AMXSXMAAMM\n",
    "MSAMASMSMX\n",
    "XMASAMXAMM\n",
    "XXAMMXXAMA\n",
    "SMSMSASXSS\n",
    "SAXAMASAAA\n",
    "MAMMMXMMMM\n",
    "MXMXAXMASX\"\"\"\n",
    "input_fpath = \"day4.txt\""
   ]
  },
  {
   "cell_type": "code",
   "execution_count": 3,
   "metadata": {},
   "outputs": [],
   "source": [
    "def parse_input(input: str) -> dict:\n",
    "    character_location_dict = {}\n",
    "    for row_index, row_list in enumerate(input.split()):\n",
    "        for col_index, character in enumerate(row_list):\n",
    "            character_location_dict[(row_index, col_index)] = character\n",
    "    return character_location_dict\n",
    "\n",
    "\n",
    "def wordsearch(character_location_dict: dict) -> int:\n",
    "    \n",
    "    word_count = 0\n",
    "    target_word = \"XMAS\"\n",
    "    \n",
    "    for (start_row_index, start_col_index), character in character_location_dict.items():\n",
    "        word = \"\"\n",
    "\n",
    "        if not character == \"X\":\n",
    "            continue\n",
    "        \n",
    "        for (row_mod, col_mod) in clockwise_modifiers:  # Going round each X in a circle\n",
    "            row_index, col_index = start_row_index, start_col_index\n",
    "            word = \"X\"\n",
    "            while True:\n",
    "                new_row_index, new_col_index = row_index + row_mod, col_index + col_mod\n",
    "                new_character = character_location_dict.get((new_row_index, new_col_index))\n",
    "                if not new_character:  # If next character in this direction doesn't exist then pick new direction\n",
    "                    break\n",
    "\n",
    "                word = word + new_character\n",
    "\n",
    "                if not word in target_word:  # If the word assembled from all new characters is not in target word then pick new direction\n",
    "                    break\n",
    "                \n",
    "                row_index, col_index = new_row_index, new_col_index  # If conditions met then traverse in direction to new character\n",
    "\n",
    "                if word == target_word:\n",
    "                    word_count += 1\n",
    "                    break\n",
    "    return word_count\n",
    "\n",
    "\n",
    "def xmas_search(character_location_dict: dict) -> int:\n",
    "    obj_count = 0\n",
    "    \n",
    "    for (row_index, col_index), character in character_location_dict.items():\n",
    "        valid = True\n",
    "        if not character == \"A\":\n",
    "            continue\n",
    "\n",
    "        x_chars = []\n",
    "        for (row_mod, col_mod) in x_modifiers:\n",
    "            new_row_index, new_col_index = row_index + row_mod, col_index + col_mod\n",
    "            new_character = character_location_dict.get((new_row_index, new_col_index))\n",
    "            if not new_character or new_character not in \"MS\":\n",
    "                continue\n",
    "            x_chars.append(new_character)\n",
    "\n",
    "        if len(x_chars) != 4 or x_chars.count(\"M\") != 2:\n",
    "            continue\n",
    "\n",
    "        for char in [\"M\", \"S\"]:\n",
    "            inds = [i for i, e in enumerate(x_chars) if e == char]\n",
    "            if abs(inds[0] - inds[1]) == 2:\n",
    "                valid = False\n",
    "                continue\n",
    "\n",
    "        if not valid:\n",
    "            continue\n",
    "        obj_count += 1\n",
    "\n",
    "    return obj_count\n"
   ]
  },
  {
   "cell_type": "code",
   "execution_count": 4,
   "metadata": {},
   "outputs": [
    {
     "name": "stdout",
     "output_type": "stream",
     "text": [
      "Part 1 word count: 2397\n",
      "Part 2 x-mas count: 1824\n"
     ]
    }
   ],
   "source": [
    "with open(input_fpath, \"r\") as f:\n",
    "    day4_input = parse_input(f.read())\n",
    "    print(f\"Part 1 word count: {wordsearch(day4_input)}\")\n",
    "    print(f\"Part 2 x-mas count: {xmas_search(day4_input)}\")"
   ]
  }
 ],
 "metadata": {
  "kernelspec": {
   "display_name": "py38",
   "language": "python",
   "name": "python3"
  },
  "language_info": {
   "codemirror_mode": {
    "name": "ipython",
    "version": 3
   },
   "file_extension": ".py",
   "mimetype": "text/x-python",
   "name": "python",
   "nbconvert_exporter": "python",
   "pygments_lexer": "ipython3",
   "version": "3.8.18"
  }
 },
 "nbformat": 4,
 "nbformat_minor": 2
}
