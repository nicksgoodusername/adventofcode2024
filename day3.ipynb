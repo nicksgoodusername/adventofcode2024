{
 "cells": [
  {
   "cell_type": "code",
   "execution_count": 85,
   "metadata": {},
   "outputs": [],
   "source": [
    "import re\n",
    "input_fpath = \"day3.txt\"\n",
    "test_str = \"xmul(2,4)&mul[3,7]!^don't()_mul(5,5)+mul(32,64](mul(11,8)undo()?mul(8,5))\"\n",
    "\n",
    "part1_regex = r\"mul\\(\\d+,\\d+\\)\"\n",
    "part2_regex = r\"(do\\(\\))|(don't\\(\\))|(mul\\(\\d+,\\d+\\))\""
   ]
  },
  {
   "cell_type": "code",
   "execution_count": 86,
   "metadata": {},
   "outputs": [],
   "source": [
    "def mult_sequence_multiplier(seq: str) -> int:\n",
    "    n1, n2 = map(int, re.findall(r\"\\d+\", seq))\n",
    "    prod = n1 * n2\n",
    "    return prod\n",
    "\n",
    "\n",
    "def part1_func(input_code: str) -> int:\n",
    "    valid_sequences = re.findall(part1_regex, input_code)\n",
    "    sum = 0\n",
    "    for seq in valid_sequences:\n",
    "        prod = mult_sequence_multiplier(seq)\n",
    "        sum += prod\n",
    "    return sum\n",
    "\n",
    "\n",
    "def part2_func(input_code: str) -> int:\n",
    "    valid_sequences = re.finditer(part2_regex, input_code)\n",
    "    sum = 0\n",
    "    do_functions = True\n",
    "    for match in valid_sequences:\n",
    "        function = match.group(0)\n",
    "\n",
    "        if function == r\"don't()\":\n",
    "            do_functions = False\n",
    "            continue\n",
    "        \n",
    "        if function == r\"do()\":\n",
    "            do_functions = True\n",
    "            continue\n",
    "\n",
    "        if not do_functions:\n",
    "            continue\n",
    "\n",
    "        sum += mult_sequence_multiplier(function)\n",
    "\n",
    "    return sum"
   ]
  },
  {
   "cell_type": "code",
   "execution_count": 87,
   "metadata": {},
   "outputs": [
    {
     "name": "stdout",
     "output_type": "stream",
     "text": [
      "Part 1 answer: 189527826\n",
      "Part 2 answer: 63013756\n"
     ]
    }
   ],
   "source": [
    "with open(input_fpath, \"r\") as code:\n",
    "    code_str = code.read()\n",
    "    print(f\"Part 1 answer: {part1_func(code_str)}\")\n",
    "    print(f\"Part 2 answer: {part2_func(code_str)}\")"
   ]
  },
  {
   "cell_type": "code",
   "execution_count": null,
   "metadata": {},
   "outputs": [],
   "source": []
  }
 ],
 "metadata": {
  "kernelspec": {
   "display_name": "py38",
   "language": "python",
   "name": "python3"
  },
  "language_info": {
   "codemirror_mode": {
    "name": "ipython",
    "version": 3
   },
   "file_extension": ".py",
   "mimetype": "text/x-python",
   "name": "python",
   "nbconvert_exporter": "python",
   "pygments_lexer": "ipython3",
   "version": "3.8.18"
  }
 },
 "nbformat": 4,
 "nbformat_minor": 2
}
